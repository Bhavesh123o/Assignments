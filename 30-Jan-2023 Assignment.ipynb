{
 "cells": [
  {
   "cell_type": "code",
   "execution_count": 1,
   "id": "302a2a6f",
   "metadata": {},
   "outputs": [
    {
     "name": "stdout",
     "output_type": "stream",
     "text": [
      "Enter your marks (in Percentage)91\n",
      "Your have received Grade A\n"
     ]
    }
   ],
   "source": [
    "## Q1. Answer\n",
    "percentage = int(input(\"Enter your marks (in Percentage)\"))\n",
    "if percentage > 90 and percentage <= 100 :\n",
    "    print (\"Your have received Grade A\")    \n",
    "elif percentage <= 90 and percentage > 80 :\n",
    "    print (\"Your have received Grade B\")                     \n",
    "elif percentage <= 80 and percentage >= 60 :\n",
    "    print (\"Your have received Grade C\")\n",
    "elif percentage < 60 :\n",
    "    print (\"Your have received Grade D\")\n",
    "else :\n",
    "    print(\"Invalid Input\")"
   ]
  },
  {
   "cell_type": "code",
   "execution_count": 2,
   "id": "4767ada0",
   "metadata": {},
   "outputs": [
    {
     "name": "stdout",
     "output_type": "stream",
     "text": [
      "Enter Cost Price (in Rs.) of Bike1000\n",
      "Your have to pay 5% Tax\n"
     ]
    }
   ],
   "source": [
    "## Q2. Answer\n",
    "cost_price = int(input(\"Enter Cost Price (in Rs.) of Bike\"))\n",
    "if cost_price > 100000 :\n",
    "    print (\"Your have to pay 15% Tax\")    \n",
    "elif cost_price <= 100000 and cost_price > 50000 :\n",
    "    print (\"Your have to pay 10% Tax\")                     \n",
    "elif cost_price <= 50000 :\n",
    "    print (\"Your have to pay 5% Tax\") "
   ]
  },
  {
   "cell_type": "code",
   "execution_count": 3,
   "id": "03bdcd28",
   "metadata": {},
   "outputs": [
    {
     "name": "stdout",
     "output_type": "stream",
     "text": [
      "Enter any city nameagra\n",
      "Taj Mahal Monument is in Agra\n"
     ]
    }
   ],
   "source": [
    "## Q3. Answer\n",
    "city = input(\"Enter any city name\")\n",
    "city = city.lower()\n",
    "if city == \"delhi\":\n",
    "    print (\"Red Fort Monument is in Delhi\")    \n",
    "elif city == \"agra\":\n",
    "    print (\"Taj Mahal Monument is in Agra\")                     \n",
    "elif city == \"jaipur\":\n",
    "    print (\"Jal Mahal Monument is in Jaipur\")\n",
    "else :\n",
    "    print(\"Invalid input or information not available\")"
   ]
  },
  {
   "cell_type": "code",
   "execution_count": 4,
   "id": "a42e2731",
   "metadata": {},
   "outputs": [
    {
     "name": "stdout",
     "output_type": "stream",
     "text": [
      "Enter any number500\n",
      "500 can be divided by 3, 4 number of times\n"
     ]
    }
   ],
   "source": [
    "## Q4. Answer\n",
    "count = 0\n",
    "number = int(input(\"Enter any number\"))\n",
    "n1 = number\n",
    "while (n1 > 10) :\n",
    "    n1 = n1/3\n",
    "    count+= 1 \n",
    "print(f\"{number} can be divided by 3, {count} number of times\")"
   ]
  },
  {
   "cell_type": "markdown",
   "id": "a1a02ad5",
   "metadata": {},
   "source": [
    "Q5. Why and When to Use while Loop in Python give a detailed description with example \n",
    "\n",
    "Ans. The while loop in Python is used when you want to repeatedly execute a block of code as long as a certain condition is met. The loop continues to execute as long as the condition is True.\n",
    "\n",
    "Here's an example of how to use a while loop in Python:"
   ]
  },
  {
   "cell_type": "code",
   "execution_count": 6,
   "id": "4250d322",
   "metadata": {},
   "outputs": [
    {
     "name": "stdout",
     "output_type": "stream",
     "text": [
      "0\n",
      "1\n",
      "2\n",
      "3\n",
      "4\n"
     ]
    },
    {
     "data": {
      "text/plain": [
       "\"In this example, the while loop will continue to execute as long as count is less than 5. The value of count is incremented by 1 after each iteration, so eventually the condition count < 5 will become False, causing the loop to stop.\\n\\nIt's important to make sure that the condition in a while loop eventually becomes False, otherwise the loop will run forever (an infinite loop), which can cause your program to hang or crash.\""
      ]
     },
     "execution_count": 6,
     "metadata": {},
     "output_type": "execute_result"
    }
   ],
   "source": [
    "count = 0\n",
    "# While loop\n",
    "\n",
    "while count < 5:\n",
    "    print(count)\n",
    "    count += 1\n",
    "'''In this example, the while loop will continue to execute as long as count is less than 5. The value of count is incremented by 1 after each iteration, so eventually the condition count < 5 will become False, causing the loop to stop.\n",
    "\n",
    "It's important to make sure that the condition in a while loop eventually becomes False, otherwise the loop will run forever (an infinite loop), which can cause your program to hang or crash.'''"
   ]
  },
  {
   "cell_type": "code",
   "execution_count": 7,
   "id": "3e177e6e",
   "metadata": {},
   "outputs": [
    {
     "name": "stdout",
     "output_type": "stream",
     "text": [
      "Number of Rows5\n",
      "*****\n",
      "****\n",
      "***\n",
      "**\n",
      "*\n"
     ]
    }
   ],
   "source": [
    "## Q6. Answer\n",
    "\n",
    "## Pattern 1\n",
    "\n",
    "n =int(input(\"Number of Rows\"))\n",
    "while(n>0) :\n",
    "    print (\"*\"*n)\n",
    "    n -= 1\n"
   ]
  },
  {
   "cell_type": "code",
   "execution_count": 8,
   "id": "220eee71",
   "metadata": {},
   "outputs": [
    {
     "name": "stdout",
     "output_type": "stream",
     "text": [
      "Number of Rows5\n",
      "    *\n",
      "   **\n",
      "  ***\n",
      " ****\n",
      "*****\n"
     ]
    }
   ],
   "source": [
    "## Pattern 2\n",
    "\n",
    "n =int(input(\"Number of Rows\"))\n",
    "a = 1\n",
    "while(n>0) :\n",
    "    n -= 1\n",
    "    print (\" \"*n, end=\"*\"*a+\"\\n\")\n",
    "    a += 1"
   ]
  },
  {
   "cell_type": "code",
   "execution_count": 9,
   "id": "fa4e1993",
   "metadata": {},
   "outputs": [
    {
     "name": "stdout",
     "output_type": "stream",
     "text": [
      "Number of Rows5\n",
      "    *    \n",
      "   ***   \n",
      "  *****  \n",
      " ******* \n",
      "*********\n"
     ]
    }
   ],
   "source": [
    "## Pattern 3\n",
    "\n",
    "n =int(input(\"Number of Rows\"))\n",
    "a = 1\n",
    "while(n>0) :\n",
    "    n -= 1\n",
    "    print (\" \"*n +\"*\"*a ,end=\" \"*n+\"\\n\")\n",
    "    a += 2\n"
   ]
  },
  {
   "cell_type": "code",
   "execution_count": 10,
   "id": "1289cdb1",
   "metadata": {},
   "outputs": [
    {
     "name": "stdout",
     "output_type": "stream",
     "text": [
      "10\n",
      "9\n",
      "8\n",
      "7\n",
      "6\n",
      "5\n",
      "4\n",
      "3\n",
      "2\n",
      "1\n"
     ]
    }
   ],
   "source": [
    "## Q7. Answer\n",
    "\n",
    "i = 10\n",
    "while i > 0:\n",
    "    print(i)\n",
    "    i -=  1"
   ]
  },
  {
   "cell_type": "code",
   "execution_count": 11,
   "id": "e0b906fa",
   "metadata": {},
   "outputs": [
    {
     "name": "stdout",
     "output_type": "stream",
     "text": [
      "10\n",
      "9\n",
      "8\n",
      "7\n",
      "6\n",
      "5\n",
      "4\n",
      "3\n",
      "2\n",
      "1\n"
     ]
    }
   ],
   "source": [
    "## Q8. Answer\n",
    "i = 10\n",
    "while i > 0:\n",
    "    print(i)\n",
    "    i -=  1"
   ]
  },
  {
   "cell_type": "code",
   "execution_count": null,
   "id": "1ed370ef",
   "metadata": {},
   "outputs": [],
   "source": []
  }
 ],
 "metadata": {
  "kernelspec": {
   "display_name": "Python 3 (ipykernel)",
   "language": "python",
   "name": "python3"
  },
  "language_info": {
   "codemirror_mode": {
    "name": "ipython",
    "version": 3
   },
   "file_extension": ".py",
   "mimetype": "text/x-python",
   "name": "python",
   "nbconvert_exporter": "python",
   "pygments_lexer": "ipython3",
   "version": "3.9.12"
  }
 },
 "nbformat": 4,
 "nbformat_minor": 5
}
