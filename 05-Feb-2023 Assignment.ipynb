{
 "cells": [
  {
   "cell_type": "markdown",
   "id": "d736f57b",
   "metadata": {},
   "source": [
    "Q1. Explain Class and Object with respect to Object-Oriented Programming. Give a suitable example.\n",
    "\n",
    "Ans. Class is a blueprint or a template for creating objects (instances of a class). It defines a set of attributes (properties) and behaviors (methods) that are common to all objects of that class. In object-oriented programming, a class encapsulates the data and the functions that operate on that data.\n",
    "\n",
    "An Object, on the other hand, is an instance of a class. It represents a specific entity with its own property values and methods. Objects are instances of classes, created at runtime.\n",
    "\n",
    "For example, consider a \"Person\" class. The class can have properties like name, age, and address. The methods can include things like \"introduce\" which prints out the person's name and other details. Each instance of the \"Person\" class represents a unique person, with its own property values. So, you can create multiple objects of the class, such as \"Yogesh\", \"Gaurav\", etc. each with its own values for the properties.\n",
    "\n",
    "Class: Person\n",
    "\n",
    "Properties: name, age, address\n",
    "Methods: introduce()\n",
    "Objects: Yogesh, Gaurav (instances of Person class)"
   ]
  },
  {
   "cell_type": "markdown",
   "id": "d4ba358f",
   "metadata": {},
   "source": [
    "Q2. Name the four pillars of OOPs.\n",
    "\n",
    "Ans.The four pillars of Object-Oriented Programming (OOP) are:\n",
    "\n",
    "Abstraction: This refers to the process of hiding the implementation details of an object and exposing only the necessary information to the users.\n",
    "\n",
    "Encapsulation: This refers to the wrapping of data (properties) and functions (methods) into a single unit or object. It ensures that the internal representation of an object is hidden from the outside world and can only be accessed through a well-defined interface.\n",
    "\n",
    "Inheritance: This refers to the ability of a new class to inherit the properties and behaviors of an existing class. The new class is called a subclass or derived class, and the existing class is called a superclass or base class.\n",
    "\n",
    "Polymorphism: This refers to the ability of objects to take on multiple forms. In OOP, polymorphism is achieved through method overriding and method overloading. It allows objects of different classes to be treated as objects of the same class, enabling code reusability and making the code more flexible and easier to maintain."
   ]
  },
  {
   "cell_type": "markdown",
   "id": "136b2f78",
   "metadata": {},
   "source": [
    "Q3. Explain why the __init__() function is used. Give a suitable example.\n",
    "\n",
    "Ans. The __init__() function is a special method in Python classes, also known as the constructor method. It is automatically called when an object of the class is created. The primary purpose of the __init__() function is to initialize the object's attributes or properties with the values passed as arguments when the object is created.\n",
    "\n",
    "For example, consider a class named Person. A person has certain attributes like name, age, and address. When an object of the class is created, the __init__() method is automatically called, allowing us to set the values of these attributes at the time of object creation.\n",
    "\n",
    "Here's an example implementation:"
   ]
  },
  {
   "cell_type": "code",
   "execution_count": 1,
   "id": "3db0942c",
   "metadata": {},
   "outputs": [
    {
     "name": "stdout",
     "output_type": "stream",
     "text": [
      "John\n",
      "30\n",
      "123 Main St.\n"
     ]
    }
   ],
   "source": [
    "class Person:\n",
    "    def __init__(self, name, age, address):\n",
    "        self.name = name\n",
    "        self.age = age\n",
    "        self.address = address\n",
    "\n",
    "person = Person(\"John\", 30, \"123 Main St.\")\n",
    "\n",
    "print(person.name)\n",
    "print(person.age)\n",
    "print(person.address)"
   ]
  },
  {
   "cell_type": "markdown",
   "id": "4e03c70e",
   "metadata": {},
   "source": [
    "Q4. Why self is used in OOPs?\n",
    "\n",
    "Ans. self represents the instance of the class. By using the “self”  we can access the attributes and methods of the class in python. It binds the attributes with the given arguments.\n",
    "\n",
    "The reason we need to use self. is because Python does not use the @ syntax to refer to instance attributes. Python decided to do methods in a way that makes the instance to which the method belongs be passed automatically, but not received automatically: the first parameter of methods is the instance the method is called on.\n",
    "\n",
    "In more clear way you can say that self has following Characteristic-\n",
    "\n",
    "1. self is always pointing to Current Object.\n",
    "2. self is the first argument to be passed in Constructor and Instance Method.\n",
    "-  self must be provided as a First parameter to the Instance method and constructor. If you don’t provide it, it will cause an error.\n",
    "3. self is a convention and not a Python keyword.\n",
    "-  self is parameter in Instance Method and user can use another parameter name in place of it. But it is advisable to use self because it increases the readability of code, and it is also a good programming practice."
   ]
  },
  {
   "cell_type": "markdown",
   "id": "a71e9da0",
   "metadata": {},
   "source": [
    "Q5. What is inheritance? Give an example for each type of inheritance.\n",
    "\n",
    "Ans. Inheritance is a mechanism in object-oriented programming that allows you to create a new class that is a modified version of an existing class. The new class is called the subclass or derived class, and the existing class is called the superclass or base class. The subclass inherits the attributes and behaviors of the superclass, and can add new attributes or override the inherited behaviors.\n",
    "\n",
    "There are several types of inheritance, including:\n",
    "1. Single inheritance: A subclass inherits from a single base class."
   ]
  },
  {
   "cell_type": "code",
   "execution_count": 2,
   "id": "6b87e9b7",
   "metadata": {},
   "outputs": [
    {
     "name": "stdout",
     "output_type": "stream",
     "text": [
      "Woof\n"
     ]
    }
   ],
   "source": [
    "class Animal:\n",
    "    def __init__(self, name):\n",
    "        self.name = name\n",
    "\n",
    "    def make_sound(self):\n",
    "        print(\"Some animal sound\")\n",
    "\n",
    "class Dog(Animal):\n",
    "    def make_sound(self):\n",
    "        print(\"Woof\")\n",
    "\n",
    "dog = Dog(\"Fido\")\n",
    "dog.make_sound()"
   ]
  },
  {
   "cell_type": "markdown",
   "id": "5ef3f5b7",
   "metadata": {},
   "source": [
    "2. Multiple inheritance: A subclass inherits from multiple base classes.\n"
   ]
  },
  {
   "cell_type": "code",
   "execution_count": 4,
   "id": "8dd44aac",
   "metadata": {},
   "outputs": [
    {
     "name": "stdout",
     "output_type": "stream",
     "text": [
      "Some mammal sound\n",
      "Swimming\n"
     ]
    }
   ],
   "source": [
    "class Mammal:\n",
    "    def __init__(self, name):\n",
    "        self.name = name\n",
    "    \n",
    "    def make_sound(self):\n",
    "        print(\"Some mammal sound\")\n",
    "\n",
    "class Fish:\n",
    "    def swim(self):\n",
    "        print(\"Swimming\")\n",
    "\n",
    "class Dolphin(Mammal, Fish):\n",
    "    pass\n",
    "\n",
    "dolphin = Dolphin(\"Flipper\")\n",
    "dolphin.make_sound()\n",
    "dolphin.swim()"
   ]
  },
  {
   "cell_type": "markdown",
   "id": "61e562dd",
   "metadata": {},
   "source": [
    "3. Multi-level inheritance: A subclass inherits from a base class, which in turn inherits from another base class."
   ]
  },
  {
   "cell_type": "code",
   "execution_count": 5,
   "id": "457100e5",
   "metadata": {},
   "outputs": [
    {
     "name": "stdout",
     "output_type": "stream",
     "text": [
      "Woof\n"
     ]
    }
   ],
   "source": [
    "class Animal:\n",
    "    def __init__(self, name):\n",
    "        self.name = name\n",
    "\n",
    "class Mammal(Animal):\n",
    "    def make_sound(self):\n",
    "        print(\"Some mammal sound\")\n",
    "\n",
    "class Dog(Mammal):\n",
    "    def make_sound(self):\n",
    "        print(\"Woof\")\n",
    "\n",
    "dog = Dog(\"Fido\")\n",
    "dog.make_sound()"
   ]
  },
  {
   "cell_type": "markdown",
   "id": "90949798",
   "metadata": {},
   "source": [
    "4. Hierarchical inheritance: Multiple subclasses inherit from a single base class."
   ]
  },
  {
   "cell_type": "code",
   "execution_count": 6,
   "id": "94d3c45e",
   "metadata": {},
   "outputs": [
    {
     "name": "stdout",
     "output_type": "stream",
     "text": [
      "Woof\n",
      "Meow\n"
     ]
    }
   ],
   "source": [
    "class Animal:\n",
    "    def __init__(self, name):\n",
    "        self.name = name\n",
    "\n",
    "class Dog(Animal):\n",
    "    def make_sound(self):\n",
    "        print(\"Woof\")\n",
    "\n",
    "class Cat(Animal):\n",
    "    def make_sound(self):\n",
    "        print(\"Meow\")\n",
    "\n",
    "dog = Dog(\"Fido\")\n",
    "dog.make_sound()\n",
    "\n",
    "cat = Cat(\"Fluffy\")\n",
    "cat.make_sound()"
   ]
  },
  {
   "cell_type": "markdown",
   "id": "cb923d95",
   "metadata": {},
   "source": [
    "4. Hybrid inheritance: A combination of more than one type of inheritance, typically single and multiple inheritance."
   ]
  },
  {
   "cell_type": "code",
   "execution_count": null,
   "id": "d178952a",
   "metadata": {},
   "outputs": [],
   "source": []
  }
 ],
 "metadata": {
  "kernelspec": {
   "display_name": "Python 3 (ipykernel)",
   "language": "python",
   "name": "python3"
  },
  "language_info": {
   "codemirror_mode": {
    "name": "ipython",
    "version": 3
   },
   "file_extension": ".py",
   "mimetype": "text/x-python",
   "name": "python",
   "nbconvert_exporter": "python",
   "pygments_lexer": "ipython3",
   "version": "3.9.12"
  }
 },
 "nbformat": 4,
 "nbformat_minor": 5
}
