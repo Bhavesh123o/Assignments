{
 "cells": [
  {
   "cell_type": "markdown",
   "id": "c64dd3e0",
   "metadata": {},
   "source": [
    "Q1. Create a python program to sort the given list of tuples based on integer value using a\n",
    "lambda function.\n",
    "[('Sachin Tendulkar', 34357), ('Ricky Ponting', 27483), ('Jack Kallis', 25534), ('Virat Kohli', 24936)]"
   ]
  },
  {
   "cell_type": "code",
   "execution_count": 29,
   "id": "1fcbd9b0",
   "metadata": {},
   "outputs": [
    {
     "name": "stdout",
     "output_type": "stream",
     "text": [
      "[('Virat Kohli', 24936), ('Jack Kallis', 25534), ('Ricky Ponting', 27483), ('Sachin Tendulkar', 34357)]\n"
     ]
    }
   ],
   "source": [
    "lst=[('Sachin Tendulkar', 34357), ('Ricky Ponting', 27483), ('Jack Kallis', 25534), ('Virat Kohli', 24936)]\n",
    "sorted_lst = sorted(lst, key=lambda x: x[1])\n",
    "\n",
    "print(sorted_lst)"
   ]
  },
  {
   "cell_type": "markdown",
   "id": "68d397f3",
   "metadata": {},
   "source": [
    "Q2. Write a Python Program to find the squares of all the numbers in the given list of integers using\n",
    "lambda and map functions."
   ]
  },
  {
   "cell_type": "code",
   "execution_count": 3,
   "id": "808db636",
   "metadata": {},
   "outputs": [
    {
     "name": "stdout",
     "output_type": "stream",
     "text": [
      "[1, 4, 9, 16, 25, 36, 49, 64, 81, 100]\n"
     ]
    }
   ],
   "source": [
    "a=[1, 2, 3, 4, 5, 6, 7, 8, 9, 10]\n",
    "b=list(map(lambda x:x**2,a))\n",
    "print(b)"
   ]
  },
  {
   "cell_type": "markdown",
   "id": "9abf0595",
   "metadata": {},
   "source": [
    "Q3. Write a python program to convert the given list of integers into a tuple of strings. Use map and\n",
    "lambda functions"
   ]
  },
  {
   "cell_type": "code",
   "execution_count": 6,
   "id": "d1bbe49d",
   "metadata": {},
   "outputs": [
    {
     "name": "stdout",
     "output_type": "stream",
     "text": [
      "['1', '2', '3', '4', '5', '6', '7', '8', '9', '10']\n"
     ]
    }
   ],
   "source": [
    "l=[1, 2, 3, 4, 5, 6, 7, 8, 9, 10]\n",
    "z=list(map(lambda x:str(x),l))\n",
    "print(z)"
   ]
  },
  {
   "cell_type": "markdown",
   "id": "ac9c9a89",
   "metadata": {},
   "source": [
    "Q4. Write a python program using reduce function to compute the product of a list containing numbers\n",
    "from 1 to 25."
   ]
  },
  {
   "cell_type": "code",
   "execution_count": 16,
   "id": "e1edd0ba",
   "metadata": {},
   "outputs": [
    {
     "name": "stdout",
     "output_type": "stream",
     "text": [
      "15511210043330985984000000\n"
     ]
    }
   ],
   "source": [
    "from functools import reduce\n",
    "n=[]\n",
    "for i in range(1,26):\n",
    "    n.append(i)\n",
    "a=reduce(lambda x,y:x*y,n)\n",
    "print(a)"
   ]
  },
  {
   "cell_type": "markdown",
   "id": "d7355dc3",
   "metadata": {},
   "source": [
    "Q5. Write a python program to filter the numbers in a given list that are divisible by 2 and 3 using the\n",
    "filter function."
   ]
  },
  {
   "cell_type": "code",
   "execution_count": 19,
   "id": "dd7b9c86",
   "metadata": {},
   "outputs": [
    {
     "data": {
      "text/plain": [
       "[6, 60, 90, 120]"
      ]
     },
     "execution_count": 19,
     "metadata": {},
     "output_type": "execute_result"
    }
   ],
   "source": [
    "lst=[2, 3, 6, 9, 27, 60, 90, 120, 55, 46]\n",
    "list(filter(lambda x:x%2==0 and x%3==0,lst))"
   ]
  },
  {
   "cell_type": "markdown",
   "id": "cdfb762a",
   "metadata": {},
   "source": [
    "Q6. Write a python program to find palindromes in the given list of strings using lambda and filter\n",
    "function."
   ]
  },
  {
   "cell_type": "code",
   "execution_count": 27,
   "id": "0341d310",
   "metadata": {},
   "outputs": [
    {
     "data": {
      "text/plain": [
       "['php', 'aba', 'radar', 'level', 'aaccaa']"
      ]
     },
     "execution_count": 27,
     "metadata": {},
     "output_type": "execute_result"
    }
   ],
   "source": [
    "ls=['python', 'php', 'aba', 'radar', 'level',\"aaccaa\",\"absh\"]\n",
    "list(filter(lambda x:x[0]==x[-1],ls))"
   ]
  },
  {
   "cell_type": "code",
   "execution_count": null,
   "id": "d0587c2c",
   "metadata": {},
   "outputs": [],
   "source": []
  }
 ],
 "metadata": {
  "kernelspec": {
   "display_name": "Python 3 (ipykernel)",
   "language": "python",
   "name": "python3"
  },
  "language_info": {
   "codemirror_mode": {
    "name": "ipython",
    "version": 3
   },
   "file_extension": ".py",
   "mimetype": "text/x-python",
   "name": "python",
   "nbconvert_exporter": "python",
   "pygments_lexer": "ipython3",
   "version": "3.9.12"
  }
 },
 "nbformat": 4,
 "nbformat_minor": 5
}
