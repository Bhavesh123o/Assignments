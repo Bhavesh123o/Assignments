{
 "cells": [
  {
   "cell_type": "markdown",
   "id": "c3a192bd",
   "metadata": {},
   "source": [
    "1. What are the characteristics of the tuples? Is tuple immutable?\n",
    "Ans- \n",
    "Some of the characteristics features of Tuples are:\n",
    "\n",
    " -Tuples are defined in the same way as lists.\n",
    " -They are enclosed within parenthesis and not within square  braces.\n",
    " -Elements of the tuple must have a defined order.\n",
    " -Negative indices are counted from the end of the tuple, just like lists.\n",
    " -Tuple also has the same structure where commas separate the values.\n",
    " \n",
    " Yes tuple is immutable."
   ]
  },
  {
   "cell_type": "markdown",
   "id": "60ded44b",
   "metadata": {},
   "source": [
    "2. What are the two tuple methods in python? Give an example of each method. Give a reason why tuples have only two in-built methods as compared to Lists.\n",
    "\n",
    "Ans-There are only two tuple methods count() and index()."
   ]
  },
  {
   "cell_type": "code",
   "execution_count": 1,
   "id": "5d9760b4",
   "metadata": {},
   "outputs": [
    {
     "name": "stdout",
     "output_type": "stream",
     "text": [
      "Count of 3 in Tuple1 is: 3\n",
      "Count of Python in Tuple2 is: 3\n"
     ]
    }
   ],
   "source": [
    "#Example of count()-\n",
    "Tuple1 = (0, 1, 2, 3, 2, 3, 1, 3, 2)\n",
    "Tuple2 = ('python', 'geek', 'python','for', 'java', 'python')\n",
    "res = Tuple1.count(3)\n",
    "print('Count of 3 in Tuple1 is:', res)\n",
    "res = Tuple2.count('python')\n",
    "print('Count of Python in Tuple2 is:', res)"
   ]
  },
  {
   "cell_type": "code",
   "execution_count": 2,
   "id": "335867ae",
   "metadata": {},
   "outputs": [
    {
     "name": "stdout",
     "output_type": "stream",
     "text": [
      "First occurrence of 3 is 3\n",
      "First occurrence of 3 after 4th index is: 5\n"
     ]
    }
   ],
   "source": [
    "#Example of index()\n",
    "Tuple = (0, 1, 2, 3, 2, 3, 1, 3, 2)\n",
    "res = Tuple.index(3)\n",
    "print('First occurrence of 3 is', res)\n",
    "res = Tuple.index(3, 4)\n",
    "print('First occurrence of 3 after 4th index is:', res)\n"
   ]
  },
  {
   "cell_type": "markdown",
   "id": "f3dd3b4d",
   "metadata": {},
   "source": [
    "3. Which collection datatypes in python do not allow duplicate items? Write a code using a set to remove duplicates from the given list.\n",
    "List = [1, 1, 1, 2, 1, 3, 1, 4, 2, 1, 2, 2, 2, 3, 2, 4, 3, 1, 3, 2, 3, 3, 3, 4, 4, 1, 4, 2, 4, 3, 4, 4]\n",
    "\n",
    "Ans- Set does not allow duplicate items."
   ]
  },
  {
   "cell_type": "code",
   "execution_count": 4,
   "id": "f884d819",
   "metadata": {},
   "outputs": [
    {
     "data": {
      "text/plain": [
       "{1, 2, 3, 4}"
      ]
     },
     "execution_count": 4,
     "metadata": {},
     "output_type": "execute_result"
    }
   ],
   "source": [
    "List = [1, 1, 1, 2, 1, 3, 1, 4, 2, 1, 2, 2, 2, 3, 2, 4, 3, 1, 3, 2, 3, 3, 3, 4, 4, 1, 4, 2, 4, 3, 4, 4]\n",
    "set(List)"
   ]
  },
  {
   "cell_type": "markdown",
   "id": "d19f5375",
   "metadata": {},
   "source": [
    "4. Explain the difference between the union() and update() methods for a set. Give an example of each method.\n",
    "\n",
    "Ans-The union() method returns a set that contains all items from the original set, and all items from the specified set(s). You can specify as many sets you want, separated by commas. It does not have to be a set, it can be any iterable object.\n",
    "\n",
    "The update() method updates the current set, by adding items from another set (or any other iterable). If an item is present in both sets, only one appearance of this item will be present in the updated set."
   ]
  },
  {
   "cell_type": "code",
   "execution_count": 10,
   "id": "8f50a83f",
   "metadata": {},
   "outputs": [
    {
     "data": {
      "text/plain": [
       "{1, 2, 3, 4, 5, 6, 7, 8}"
      ]
     },
     "execution_count": 10,
     "metadata": {},
     "output_type": "execute_result"
    }
   ],
   "source": [
    "#Example of union()\n",
    "s1={1,2,3,4}\n",
    "s2={5,6,7,8}\n",
    "s3=s1.union(s2)\n",
    "s3"
   ]
  },
  {
   "cell_type": "code",
   "execution_count": 22,
   "id": "c20fe7c5",
   "metadata": {},
   "outputs": [
    {
     "name": "stdout",
     "output_type": "stream",
     "text": [
      "{1, 2, 3, 4, 5, 6, 7, 8}\n"
     ]
    }
   ],
   "source": [
    "#Example of update()\n",
    "a1={1,2,3,4}\n",
    "a2={5,6,7,8}\n",
    "s1.update(s2)\n",
    "print(s1)"
   ]
  },
  {
   "cell_type": "markdown",
   "id": "ff60053f",
   "metadata": {},
   "source": [
    "5. What is a dictionary? Give an example. Also, state whether a dictionary is ordered or unordered.\n",
    "\n",
    "Ans-The dictionary is an unordered collection that contains key:value pairs separated by commas inside curly brackets. Dictionaries are optimized to retrieve values when the key is known.\n",
    "Dictionary is Unordered."
   ]
  },
  {
   "cell_type": "code",
   "execution_count": 23,
   "id": "a8aa841e",
   "metadata": {},
   "outputs": [
    {
     "data": {
      "text/plain": [
       "'Washington D.C.'"
      ]
     },
     "execution_count": 23,
     "metadata": {},
     "output_type": "execute_result"
    }
   ],
   "source": [
    "#Example of Dictionary\n",
    "capitals = {\"USA\":\"Washington D.C.\", \"France\":\"Paris\", \"India\":\"New Delhi\"}\n",
    "capitals[\"USA\"]"
   ]
  },
  {
   "cell_type": "markdown",
   "id": "690496e2",
   "metadata": {},
   "source": [
    "6. Can we create a nested dictionary? If so, please give an example by creating a simple one-level nested dictionary.\n",
    "Ans-Yes we can create a nested Dictionary."
   ]
  },
  {
   "cell_type": "code",
   "execution_count": 25,
   "id": "14e18d36",
   "metadata": {},
   "outputs": [
    {
     "data": {
      "text/plain": [
       "'value_A'"
      ]
     },
     "execution_count": 25,
     "metadata": {},
     "output_type": "execute_result"
    }
   ],
   "source": [
    "#Example of nested dictionary\n",
    "nested_dict = { 'dict1': {'key_A': 'value_A'},'dict2': {'key_B': 'value_B'}}\n",
    "nested_dict['dict1']['key_A']\n"
   ]
  },
  {
   "cell_type": "markdown",
   "id": "d029afc8",
   "metadata": {},
   "source": [
    "7. Using setdefault() method, create key named topics in the given dictionary and also add the value of the key as this list ['Python', 'Machine Learning’, 'Deep Learning']\n",
    "dict1 = {'language' : 'Python', 'course': 'Data Science Masters'}"
   ]
  },
  {
   "cell_type": "code",
   "execution_count": 36,
   "id": "b3850367",
   "metadata": {},
   "outputs": [
    {
     "data": {
      "text/plain": [
       "{'language': 'Python',\n",
       " 'course': 'Data Science Masters',\n",
       " 'topics': ['Python', 'Machine learning', 'Deep learning']}"
      ]
     },
     "execution_count": 36,
     "metadata": {},
     "output_type": "execute_result"
    }
   ],
   "source": [
    "dict1 = {'language' : 'Python', 'course': 'Data Science Masters'}\n",
    "l=['Python','Machine learning','Deep learning']\n",
    "dict1.setdefault(\"topics\",l)\n",
    "dict1"
   ]
  },
  {
   "cell_type": "markdown",
   "id": "573e4d7f",
   "metadata": {},
   "source": [
    "8. What are the three view objects in dictionaries? Use the three in-built methods in python to display these three view objects for the given dictionary.\n",
    "dict1 = {'Sport': 'Cricket' , 'Teams': ['India', 'Australia', 'England', 'South Africa', 'Sri Lanka', 'New Zealand']}\n",
    "\n",
    "Ans-The main view objects of dictionary in python are keys, values and items."
   ]
  },
  {
   "cell_type": "code",
   "execution_count": 37,
   "id": "309ce221",
   "metadata": {},
   "outputs": [
    {
     "data": {
      "text/plain": [
       "dict_keys(['Sport', 'Teams'])"
      ]
     },
     "execution_count": 37,
     "metadata": {},
     "output_type": "execute_result"
    }
   ],
   "source": [
    "#keys\n",
    "dict1 = {'Sport': 'Cricket' , 'Teams': ['India', 'Australia', 'England', 'South Africa', 'Sri Lanka', 'New Zealand']}\n",
    "dict1.keys()"
   ]
  },
  {
   "cell_type": "code",
   "execution_count": 38,
   "id": "9f7cc548",
   "metadata": {},
   "outputs": [
    {
     "data": {
      "text/plain": [
       "dict_values(['Cricket', ['India', 'Australia', 'England', 'South Africa', 'Sri Lanka', 'New Zealand']])"
      ]
     },
     "execution_count": 38,
     "metadata": {},
     "output_type": "execute_result"
    }
   ],
   "source": [
    "#values\n",
    "dict1.values()"
   ]
  },
  {
   "cell_type": "code",
   "execution_count": 39,
   "id": "538e570b",
   "metadata": {},
   "outputs": [
    {
     "data": {
      "text/plain": [
       "dict_items([('Sport', 'Cricket'), ('Teams', ['India', 'Australia', 'England', 'South Africa', 'Sri Lanka', 'New Zealand'])])"
      ]
     },
     "execution_count": 39,
     "metadata": {},
     "output_type": "execute_result"
    }
   ],
   "source": [
    "#items\n",
    "dict1.items()"
   ]
  },
  {
   "cell_type": "code",
   "execution_count": null,
   "id": "2d2e5a94",
   "metadata": {},
   "outputs": [],
   "source": []
  }
 ],
 "metadata": {
  "kernelspec": {
   "display_name": "Python 3 (ipykernel)",
   "language": "python",
   "name": "python3"
  },
  "language_info": {
   "codemirror_mode": {
    "name": "ipython",
    "version": 3
   },
   "file_extension": ".py",
   "mimetype": "text/x-python",
   "name": "python",
   "nbconvert_exporter": "python",
   "pygments_lexer": "ipython3",
   "version": "3.9.12"
  }
 },
 "nbformat": 4,
 "nbformat_minor": 5
}
